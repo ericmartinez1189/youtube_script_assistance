{
 "cells": [
  {
   "cell_type": "code",
   "execution_count": 45,
   "id": "6820e27b-9ee1-4f8d-b5f1-6aa633760af4",
   "metadata": {
    "tags": []
   },
   "outputs": [],
   "source": [
    "# set up the necessary imports\n",
    "from langchain_openai import OpenAI\n",
    "from langchain.prompts import PromptTemplate\n",
    "from langchain.chains import LLMChain\n",
    "from langchain.memory import ConversationBufferMemory\n",
    "from langchain_community.utilities import WikipediaAPIWrapper"
   ]
  },
  {
   "cell_type": "code",
   "execution_count": 46,
   "id": "017573fe",
   "metadata": {},
   "outputs": [],
   "source": [
    "# this is gonna be the main input text, we can change it to streamlit input later\n",
    "input_text = \"Baby Yoda\""
   ]
  },
  {
   "cell_type": "code",
   "execution_count": 47,
   "id": "36e37174-15d7-41a5-8435-c8ad6535c6c7",
   "metadata": {
    "tags": []
   },
   "outputs": [],
   "source": [
    "# here we initialize the chatbot and the wikipedia api wrapper\n",
    "llm = OpenAI(temperature=0.9)\n",
    "wiki = WikipediaAPIWrapper()"
   ]
  },
  {
   "cell_type": "code",
   "execution_count": 48,
   "id": "c2faca87",
   "metadata": {},
   "outputs": [],
   "source": [
    "# Memory \n",
    "title_memory = ConversationBufferMemory(input_key='topic', memory_key='chat_history')\n",
    "script_memory = ConversationBufferMemory(input_key='title', memory_key='chat_history')"
   ]
  },
  {
   "cell_type": "code",
   "execution_count": 49,
   "id": "db0d28fd",
   "metadata": {},
   "outputs": [],
   "source": [
    "text_template_title = \"\"\"write me a youtube video title about the user's selected topic\n",
    " % USER TOPIC SELECTION \n",
    " {topic}\n",
    " \n",
    " YOUR RESPONSE:\n",
    " \"\"\"\n",
    "template_title = PromptTemplate(\n",
    "    template=text_template_title,\n",
    "    input_variables=[\"topic\"],\n",
    "    )"
   ]
  },
  {
   "cell_type": "code",
   "execution_count": 50,
   "id": "8c033f6b",
   "metadata": {},
   "outputs": [],
   "source": [
    "# Holds my 'title' chain\n",
    "title_chain = LLMChain(\n",
    "    llm=llm,\n",
    "    prompt=template_title,\n",
    "    verbose=True,\n",
    "    #output_key='title',\n",
    "    memory=title_memory\n",
    "    )"
   ]
  },
  {
   "cell_type": "code",
   "execution_count": 51,
   "id": "7a990902",
   "metadata": {},
   "outputs": [],
   "source": [
    "text_template_script = \"\"\"write a youtube video script about the title below and leveraging the wikipedia article provided\n",
    "\n",
    "% YOUTUBE VIDEO TITLE:\n",
    "{title}\n",
    "\n",
    "% WIKIPEDIA ARTICLE:\n",
    "{article}\n",
    "\"\"\"\n",
    "template_script = PromptTemplate(\n",
    "    input_variables=[\"title\", \"article\"],\n",
    "    template=text_template_script,\n",
    "    )"
   ]
  },
  {
   "cell_type": "code",
   "execution_count": 52,
   "id": "268bfcca",
   "metadata": {},
   "outputs": [],
   "source": [
    "# Holds my 'script' chain\n",
    "script_chain = LLMChain(\n",
    "    llm=llm,\n",
    "    prompt=template_script,\n",
    "    verbose=True,\n",
    "    #output_key='script',\n",
    "    memory=script_memory,\n",
    "    )"
   ]
  },
  {
   "cell_type": "code",
   "execution_count": 53,
   "id": "7b633a54",
   "metadata": {},
   "outputs": [
    {
     "name": "stdout",
     "output_type": "stream",
     "text": [
      "\n",
      "\n",
      "\u001b[1m> Entering new LLMChain chain...\u001b[0m\n",
      "Prompt after formatting:\n",
      "\u001b[32;1m\u001b[1;3mwrite me a youtube video title about the user's selected topic\n",
      " % USER TOPIC SELECTION \n",
      " Baby Yoda\n",
      " \n",
      " YOUR RESPONSE:\n",
      " \u001b[0m\n",
      "\n",
      "\u001b[1m> Finished chain.\u001b[0m\n",
      "\n",
      "\n",
      "\u001b[1m> Entering new LLMChain chain...\u001b[0m\n",
      "Prompt after formatting:\n",
      "\u001b[32;1m\u001b[1;3mwrite a youtube video script about the title below and leveraging the wikipedia article provided\n",
      "\n",
      "% YOUTUBE VIDEO TITLE:\n",
      "\"Unleashing the Cutest Force in the Galaxy: Exploring the Phenomenon of Baby Yoda!\" \n",
      "\n",
      "% WIKIPEDIA ARTICLE:\n",
      "Page: Grogu\n",
      "Summary: Din Grogu (), colloquially referred to as Baby Yoda, is a character from the Star Wars Disney+ original television series The Mandalorian and The Book of Boba Fett. He is a toddler member of the same species as the Star Wars characters Yoda and Yaddle, with whom he shares a strong ability in the Force. In the series, the protagonist known as \"the Mandalorian\" is hired to track down and capture Grogu for a remnant of the fallen Galactic Empire, but instead, he becomes his adoptive father and protects him from the Imperials. The character's real name was not revealed until \"Chapter 13: The Jedi\", which also explained that Grogu was raised at the Jedi Temple on Coruscant during the Clone Wars. Before this, the character's official name, used in subtitles and captions, was \"the Child\". At the end of \"Chapter 24: The Return\", he is given the name Din Grogu after being formally adopted by the Mandalorian, whose family name is \"Din\".\n",
      "Grogu has appeared in every episode of the first three seasons, except \"Chapter 15: The Believer\". He was created by The Mandalorian creator and showrunner Jon Favreau based upon his desire to explore the mystery around Yoda and his species. The character was further developed in early conversations between Favreau and executive producer Dave Filoni, and the character's imagery was defined by concept artist Christian Alzmann. Grogu is mostly a work of animatronics and puppetry, although accentuated with computer-generated imagery.\n",
      "The puppet was designed by Legacy Effects.  Actor Adam Pally has stated that showrunner Jon Favreau told him it cost about $5 million to make. It is controlled by two technicians, one who operates the eyes and mouth and another who controls other facial expressions. The character's voice and sounds were created using a combination of adult and infant vocals, as well as recordings of a bat-eared fox and kinkajou.  The dynamic between the Mandalorian and Grogu embodies a theme of parenting and fatherhood prevalent in The Mandalorian, with the character also raising questions about good and evil and nature versus nurture in the series.\n",
      "Grogu has received a positive reception from fans and reviewers, is widely considered the show's breakout character, and quickly became a popular Internet meme. The Guardian called him \"2019's biggest new character\", and The Hollywood Reporter has said the character \"represents the future of Hollywood\". Many writers have described Grogu as a key part in the success of Disney+. Grogu was kept secret and was deliberately withheld from The Mandalorian's pre-release marketing and merchandise plans to avoid leaks and spoiling Grogu's reveal before the show aired.\n",
      "\n",
      "\n",
      "\n",
      "Page: The Mandalorian\n",
      "Summary: The Mandalorian is an American space Western television series created by Jon Favreau for the streaming service Disney+. It is the first live-action series produced in the Star Wars franchise, beginning five years after the events of Return of the Jedi (1983). The series stars Pedro Pascal as the title character, a lone bounty hunter who goes on the run to protect the Force-sensitive child Grogu from remnant Imperial forces led by Moff Gideon. In the third season, Katee Sackhoff co-stars as Mandalorian Bo-Katan Kryze, following her appearance in the second season.\n",
      "Star Wars creator George Lucas had begun developing a live-action Star Wars television series by 2009, but this project was deemed too expensive to produce. He sold Lucasfilm to Disney in October 2012. Subsequently, work on a new Star Wars series began for Disney+. Favreau signed on in March 2018, serving as writer and showrunner. He executive produces alongside Dave Filoni, Kathleen Kennedy, and Colin Wilson. The series' title was announced in October 2018, with filming starting at Manhattan Beach Studios in California. Visual effects company Industrial Light & Magic developed the StageCraft technology for the series, using virtual sets and a 360-degree video wall to create the se\n",
      "\u001b[0m\n",
      "\n",
      "\u001b[1m> Finished chain.\u001b[0m\n"
     ]
    }
   ],
   "source": [
    "title = title_chain.run(topic=input_text)\n",
    "wiki_research = wiki.run(input_text) \n",
    "script = script_chain.run(title=title, article=wiki_research)"
   ]
  },
  {
   "cell_type": "code",
   "execution_count": 54,
   "id": "b21fc016",
   "metadata": {},
   "outputs": [
    {
     "name": "stdout",
     "output_type": "stream",
     "text": [
      "ttings and backgrounds.\n",
      "\n",
      "[Opening shot of Baby Yoda smiling and playing with a toy]\n",
      "\n",
      "Host: \"I'm sure you've all seen this little guy before. He's captured our hearts and taken the internet by storm. But who is he? And why is he so darn adorable?\"\n",
      "\n",
      "[Cut to footage of The Mandalorian]\n",
      "\n",
      "Host: \"This is Grogu, also known as Baby Yoda, and he is the breakout star of the hit Disney+ series, The Mandalorian. But did you know that his character has a rich background and has even been responsible for the success of the streaming service?\"\n",
      "\n",
      "[Cut to footage of Grogu in action scenes from The Mandalorian]\n",
      "\n",
      "Host: \"Today, we're going to dive into the phenomenon of Baby Yoda and explore the world of Star Wars through the eyes of this adorable little force-sensitive creature.\"\n",
      "\n",
      "[Cut to footage of Grogu's introduction in The Mandalorian]\n",
      "\n",
      "Host: \"Grogu's journey began when he was introduced to us in The Mandalorian, as the target of the protagonist, who is hired to capture him for the remnants of the fallen Galactic Empire. But instead, the Mandalorian becomes his adoptive father and protects him from the Imperials.\"\n",
      "\n",
      "[Cut to footage of Grogu\n"
     ]
    }
   ],
   "source": [
    "print(script)"
   ]
  }
 ],
 "metadata": {
  "kernelspec": {
   "display_name": "Python 3 (ipykernel)",
   "language": "python",
   "name": "python3"
  },
  "language_info": {
   "codemirror_mode": {
    "name": "ipython",
    "version": 3
   },
   "file_extension": ".py",
   "mimetype": "text/x-python",
   "name": "python",
   "nbconvert_exporter": "python",
   "pygments_lexer": "ipython3",
   "version": "3.8.18"
  }
 },
 "nbformat": 4,
 "nbformat_minor": 5
}
